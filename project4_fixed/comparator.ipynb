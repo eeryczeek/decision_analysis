{
 "cells": [
  {
   "cell_type": "code",
   "execution_count": 1,
   "metadata": {},
   "outputs": [],
   "source": [
    "from erykptaszynski_erykwalter import ErykPtaszynski_ErykWalter\n",
    "from bot_v1 import BotV1\n",
    "from bot_v2 import BotV2\n",
    "from bot_v3 import BotV3\n",
    "from bot_v4 import BotV4\n",
    "from bot_v5 import BotV5\n",
    "from bot_majkel import BotMajkel\n",
    "from your_name import YourName\n",
    "from michalkalmucki_dominikludwiczak import MichalKalmucki_DominikLudwiczak\n",
    "from michalkalmucki_dominikludwiczak_1 import MichalKalmucki_DominikLudwiczak_1\n",
    "from ultimate import Ultimate\n",
    "from Eliza_Weronika import Eliza_Weronika\n",
    "from Filip_Firkowski_pog import Filip_Firkowski_pog\n",
    "from Filip_Firkowski_safe import Filip_Firkowski_safe\n",
    "from honest_guy import HonestGuy\n",
    "from honest_guy_1 import HonestGuy1\n",
    "from random_player import RandomPlayer\n",
    "from game import Game"
   ]
  },
  {
   "cell_type": "code",
   "execution_count": 2,
   "metadata": {},
   "outputs": [],
   "source": [
    "def comparePlayers(player1_class, player2_class, n, log = False):\n",
    "    stats = {\n",
    "        \"wins\": [0, 0],\n",
    "        \"draws\": [0, 0],\n",
    "        \"moves\": [0, 0],\n",
    "        \"cards\": [0, 0],\n",
    "        \"pile_size\": 0,\n",
    "        \"checks\": [0, 0],\n",
    "        \"draw_decisions\": [0, 0],\n",
    "        \"cheats\": [0, 0],\n",
    "        \"errors\": [0, 0],\n",
    "        \"total_errors\": 0\n",
    "    }\n",
    "    \n",
    "    repeats = n\n",
    "    errors = 0\n",
    "\n",
    "    for t in range(repeats):\n",
    "        player1 = player1_class(\"eryk\")\n",
    "        player2 = player2_class(\"bot\")\n",
    "        game = Game([player1, player2], log = log)\n",
    "    \n",
    "        error = False\n",
    "        \n",
    "        while True:\n",
    "            valid, player = game.takeTurn(log = log)\n",
    "            if game.stats[\"moves\"][0] > 100 or game.stats[\"moves\"][1] > 100:\n",
    "                stats[\"draws\"][0] += 1\n",
    "                stats[\"draws\"][1] += 1\n",
    "                if (game.player_cards[0] < game.player_cards[1]):\n",
    "                    stats[\"wins\"][0] += 1\n",
    "                if (game.player_cards[0] > game.player_cards[1]):\n",
    "                    stats[\"wins\"][1] += 1\n",
    "                break\n",
    "            \n",
    "            if not valid:\n",
    "                error = True\n",
    "                stats[\"errors\"][player] += 1\n",
    "                errors += 1\n",
    "                break\n",
    "            if game.isFinished(log = log):\n",
    "                stats[\"wins\"][player] += 1\n",
    "                break\n",
    "            \n",
    "        stats[\"pile_size\"] += len(game.pile)\n",
    "        if error: continue\n",
    "        \n",
    "        for j in range(2):\n",
    "            stats[\"moves\"][j] += game.stats[\"moves\"][j]\n",
    "            stats[\"cheats\"][j] += game.stats[\"cheats\"][j]\n",
    "            stats[\"checks\"][j] += game.stats[\"checks\"][j]\n",
    "            stats[\"draw_decisions\"][j] += game.stats[\"draw_decisions\"][j]\n",
    "            stats[\"cards\"][j] += len(game.player_cards[j])\n",
    "\n",
    "    div = repeats - errors\n",
    "    if div > 0:\n",
    "        \n",
    "        stats[\"pile_size\"] /= div          \n",
    "        for j in range(2):\n",
    "            stats[\"moves\"][j] /= div\n",
    "            stats[\"cheats\"][j] /= div\n",
    "            stats[\"checks\"][j] /= div\n",
    "            stats[\"draw_decisions\"][j] /= div\n",
    "            stats[\"cards\"][j] /= div\n",
    "            \n",
    "    return stats"
   ]
  },
  {
   "cell_type": "markdown",
   "metadata": {},
   "source": [
    "# COMPARE"
   ]
  },
  {
   "cell_type": "code",
   "execution_count": 3,
   "metadata": {},
   "outputs": [
    {
     "name": "stdout",
     "output_type": "stream",
     "text": [
      "<class 'random_player.RandomPlayer'>: [100, 0]\n"
     ]
    }
   ],
   "source": [
    "strategies = [RandomPlayer]\n",
    "full_results = dict()\n",
    "\n",
    "for strategy in strategies:\n",
    "    full_results[strategy] = comparePlayers(ErykPtaszynski_ErykWalter, strategy, 100)\n",
    "\n",
    "for key, value in full_results.items():\n",
    "    print(f\"{key}: {value['wins']}\")"
   ]
  },
  {
   "cell_type": "code",
   "execution_count": 4,
   "metadata": {
    "scrolled": true
   },
   "outputs": [
    {
     "name": "stdout",
     "output_type": "stream",
     "text": [
      "<class 'ultimate.Ultimate'>: [19, 81]\n",
      "<class 'your_name.YourName'>: [100, 0]\n",
      "<class 'Filip_Firkowski_safe.Filip_Firkowski_safe'>: [38, 62]\n",
      "<class 'Filip_Firkowski_pog.Filip_Firkowski_pog'>: [59, 41]\n",
      "<class 'Eliza_Weronika.Eliza_Weronika'>: [99, 1]\n",
      "<class 'michalkalmucki_dominikludwiczak_1.MichalKalmucki_DominikLudwiczak_1'>: [62, 38]\n",
      "<class 'michalkalmucki_dominikludwiczak.MichalKalmucki_DominikLudwiczak'>: [60, 40]\n",
      "<class 'bot_majkel.BotMajkel'>: [100, 0]\n",
      "<class 'honest_guy_1.HonestGuy1'>: [34, 66]\n",
      "<class 'honest_guy.HonestGuy'>: [73, 27]\n",
      "<class 'bot_v4.BotV4'>: [39, 61]\n",
      "<class 'bot_v3.BotV3'>: [85, 15]\n",
      "<class 'bot_v2.BotV2'>: [100, 0]\n",
      "<class 'bot_v1.BotV1'>: [87, 13]\n",
      "<class 'random_player.RandomPlayer'>: [100, 0]\n"
     ]
    }
   ],
   "source": [
    "strategies = [Ultimate, YourName, Filip_Firkowski_safe, Filip_Firkowski_pog, Eliza_Weronika, MichalKalmucki_DominikLudwiczak_1, MichalKalmucki_DominikLudwiczak, BotMajkel, HonestGuy1, HonestGuy, BotV4, BotV3, BotV2, BotV1, RandomPlayer]\n",
    "full_results = dict()\n",
    "\n",
    "for strategy in strategies:\n",
    "    full_results[strategy] = comparePlayers(ErykPtaszynski_ErykWalter, strategy, 100)\n",
    "\n",
    "for key, value in full_results.items():\n",
    "    print(f\"{key}: {value['wins']}\")"
   ]
  }
 ],
 "metadata": {
  "kernelspec": {
   "display_name": "Python 3",
   "language": "python",
   "name": "python3"
  },
  "language_info": {
   "codemirror_mode": {
    "name": "ipython",
    "version": 3
   },
   "file_extension": ".py",
   "mimetype": "text/x-python",
   "name": "python",
   "nbconvert_exporter": "python",
   "pygments_lexer": "ipython3",
   "version": "3.11.9"
  },
  "widgets": {
   "state": {},
   "version": "1.1.2"
  }
 },
 "nbformat": 4,
 "nbformat_minor": 4
}
